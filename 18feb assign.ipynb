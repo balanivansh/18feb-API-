{
 "cells": [
  {
   "cell_type": "markdown",
   "id": "d9e39100-ec71-4760-a02c-1b2ccd566210",
   "metadata": {},
   "source": [
    "1. APIs are used in web applications to connect user-facing front ends with critical back-end functionality and data. \n",
    "Real life e.g. - APIs are used to deliver material by streaming services such as Spotify and Netflix. APIs are used by automakers such as Tesla to provide software upgrades."
   ]
  },
  {
   "cell_type": "markdown",
   "id": "061b0736-d993-4584-b29e-0c4907fd76d3",
   "metadata": {},
   "source": [
    "2. Advantages : \n",
    "  a. API solutions enable different software systems to communicate with each other, regardless of their programming language or platform. \n",
    "  b.  API driven infrastructures enable developers to reuse code and functionality from existing software systems, saving time and reducing the amount of code that needs to be written from scratch.\n",
    "  c.  APIs can enable third-party developers to create applications that integrate with existing software systems, providing a better user experience and increased functionality.\n",
    "  \n",
    "  Disadvantages : \n",
    "  a.  security concerns, complexity, compatibility issues, dependency on third-party developers, and governance and management issues.\n",
    "  b. API infrastructures can be vulnerable to security breaches, such as SQL injection attacks and cross-site scripting (XSS) attacks, making it crucial to implement security measures to protect against these threats.\n",
    "  c. APIs can be complex, requiring a significant amount of development effort to implement and maintain."
   ]
  },
  {
   "cell_type": "markdown",
   "id": "ca210c8b-012d-4c31-bc68-b1df408c3cb7",
   "metadata": {},
   "source": [
    "3. Web API is a programming interface/application type that provides communication or interaction between software applications. Web API is often used to provide an interface for websites and client applications to have data access.\n",
    "\n",
    "Difference between Api and Web Api:\n",
    "\n",
    "Api is a broad category- Web api's are a part of Api.\n",
    "Web api are generally made by Http. \n",
    "Web api is just a subset of Api."
   ]
  },
  {
   "cell_type": "markdown",
   "id": "c01c7058-8dfa-455a-91e7-98b2b009f061",
   "metadata": {},
   "source": [
    "4. REST is a set of architectural principles attuned to the needs of lightweight web services and mobile applications. Because it's a set of guidelines, it leaves the implementation of these recommendations to developers.\n",
    "\n",
    "When a request for data is sent to a REST API, it’s usually done through hypertext transfer protocol (commonly referred to as HTTP). Once a request is received, APIs designed for REST (called RESTful APIs or RESTful web services) can return messages in a variety of formats: HTML, XML, plain text, and JSON. \n",
    "\n",
    "SOAP is a standard protocol that was first designed so that applications built with different languages and on different platforms could communicate. Because it is a protocol, it imposes built-in rules that increase its complexity and overhead, which can lead to longer page load times. \n",
    "\n",
    "When a request for data is sent to a SOAP API, it can be handled through any of the application layer protocols: HTTP (for web browsers), SMTP (for email), TCP, and others."
   ]
  },
  {
   "cell_type": "markdown",
   "id": "894c4ebc-cacc-495f-bee0-4308e7bca258",
   "metadata": {},
   "source": [
    "5.  REST is a set of guidelines that offers flexible implementation, whereas SOAP is a protocol with specific requirements like XML messaging.\n",
    "\n",
    "REST APIs are lightweight, making them ideal for newer contexts like the Internet of Things (IoT), mobile application development, and serverless computing. SOAP web services offer built-in security and transaction compliance that align with many enterprise needs, but that also makes them heavier. Additionally, many public APIs, like the Google Maps API, follow the REST guidelines."
   ]
  },
  {
   "cell_type": "code",
   "execution_count": null,
   "id": "34cae85f-be67-4b01-b1c0-45c53723ab2d",
   "metadata": {},
   "outputs": [],
   "source": []
  }
 ],
 "metadata": {
  "kernelspec": {
   "display_name": "Python 3 (ipykernel)",
   "language": "python",
   "name": "python3"
  },
  "language_info": {
   "codemirror_mode": {
    "name": "ipython",
    "version": 3
   },
   "file_extension": ".py",
   "mimetype": "text/x-python",
   "name": "python",
   "nbconvert_exporter": "python",
   "pygments_lexer": "ipython3",
   "version": "3.10.8"
  }
 },
 "nbformat": 4,
 "nbformat_minor": 5
}
